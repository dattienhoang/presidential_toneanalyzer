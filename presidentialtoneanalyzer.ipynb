{
 "cells": [
  {
   "cell_type": "markdown",
   "metadata": {},
   "source": []
  },
  {
   "cell_type": "code",
   "execution_count": null,
   "metadata": {
    "collapsed": true
   },
   "outputs": [],
   "source": [
    "import json\n",
    "import matplotlib.pyplot as plt\n",
    "import numpy as np\n",
    "import pandas as pd\n",
    "import pickle\n",
    "from watson_developer_cloud import ToneAnalyzerV3"
   ]
  },
  {
   "cell_type": "code",
   "execution_count": null,
   "metadata": {
    "collapsed": true
   },
   "outputs": [],
   "source": []
  },
  {
   "cell_type": "code",
   "execution_count": null,
   "metadata": {
    "collapsed": true
   },
   "outputs": [],
   "source": [
    "def pp_json(json_thing, sort=True, indents=4):\n",
    "    if type(json_thing) is str:\n",
    "        print(json.dumps(json.loads(json_thing), sort_keys=sort, indent=indents))\n",
    "    else:\n",
    "        print(json.dumps(json_thing, sort_keys=sort, indent=indents))\n",
    "    return None"
   ]
  },
  {
   "cell_type": "code",
   "execution_count": null,
   "metadata": {
    "collapsed": true
   },
   "outputs": [],
   "source": [
    "df = pd.read_csv('C:/Users/Dat Tien Hoang/Desktop/data side projects/2016-us-presidential-debates/debate.csv')"
   ]
  },
  {
   "cell_type": "code",
   "execution_count": null,
   "metadata": {
    "collapsed": true
   },
   "outputs": [],
   "source": [
    "tone_analyzer = ToneAnalyzerV3(\n",
    "    username='bc4523fa-8efe-4298-80a9-aa0da187a69f',\n",
    "    password='T6v4FWCNNgPn',\n",
    "    version='2016-05-19')\n",
    "\n",
    "res1 = []\n",
    "res2 = []\n",
    "uniq_dates = list(np.unique(df['Date'], return_index=True)[0])\n",
    "for h in uniq_dates:\n",
    "    print 'Debate date: ', h\n",
    "    df_i_HRC = df.ix[(df['Date']== h) & (df['Speaker'] == 'Clinton')] # use | for 'or'\n",
    "    df_i_DJT = df.ix[(df['Date']== h) & (df['Speaker'] == 'Trump')] \n",
    "    HRC = df_i_HRC['Text'].str.cat(sep=' ').decode('latin-1')\n",
    "    DJT = df_i_DJT['Text'].str.cat(sep=' ').decode('latin-1')\n",
    "    #if i == uniq_dates[0]:\n",
    "    #    print 'special date test', h\n",
    "    #    tone_info1 = tone_analyzer.tone(text=HRC, sentences=False)\n",
    "    #    tone_info2 = tone_analyzer.tone(text=DJT, sentences=False)\n",
    "    if len(HRC) != 0 and len(DJT) != 0:\n",
    "        tone_info1 = tone_analyzer.tone(text=HRC, sentences=False)\n",
    "        tone_info2 = tone_analyzer.tone(text=DJT, sentences=False)\n",
    "        \n",
    "        res1.append(tone_info1)\n",
    "        res2.append(tone_info2)\n",
    "    \n",
    "        #print 'HRC RESULT'\n",
    "        #print(json.dumps(tone_info1, indent=2))\n",
    "        #pp_json(tone_info1)\n",
    "        #\n",
    "        #print 'DJT RESULT'\n",
    "        #print(json.dumps(tone_info2, indent=2))\n",
    "        #pp_json(tone_info2)\n",
    "        \n",
    "        labels_h = []\n",
    "        scores_h = []\n",
    "        labels_d = []\n",
    "        scores_d = []\n",
    "        for i in range(len(tone_info1['document_tone']['tone_categories'])):\n",
    "            for j in range(len(tone_info1['document_tone']['tone_categories'][i]['tones'])):\n",
    "                labels_h.append(tone_info1['document_tone']['tone_categories'][i]['tones'][j]['tone_name'])\n",
    "                scores_h.append(tone_info1['document_tone']['tone_categories'][i]['tones'][j]['score'])\n",
    "                \n",
    "                labels_d.append(tone_info2['document_tone']['tone_categories'][i]['tones'][j]['tone_name'])\n",
    "                scores_d.append(tone_info2['document_tone']['tone_categories'][i]['tones'][j]['score'])\n",
    "        \n",
    "        \n",
    "        # http://stackoverflow.com/questions/3584805/in-matplotlib-what-does-the-argument-mean-in-fig-add-subplot111\n",
    "        # subplot indices = (nrow, ncol, plt no.)\n",
    "        fig = plt.figure(figsize=(12, 5))\n",
    "        plt.suptitle('Overall Scores for Debate of: ' + str(h), fontsize=18, linespacing=3)\n",
    "        \n",
    "        \n",
    "        pos = np.arange(len(labels_h[0:5]))\n",
    "        ax = fig.add_subplot(131)\n",
    "        plt.barh(pos-0.125, scores_h[0:5], align='center', height=0.25, color='blue')\n",
    "        plt.barh(pos+0.125, scores_d[0:5], align='center', height=0.25, color='red')\n",
    "        plt.yticks(range(len(labels_h[0:5])), labels_h[0:5], size='small')\n",
    "        plt.xticks([0.0, 0.5, 1.0])\n",
    "        ax.set_xlim([0,1.5])\n",
    "        ax.set_title('           Emotion', loc='left')\n",
    "        plt.ylim((-0.25,4.25))\n",
    "        \n",
    "        ax.spines['top'].set_visible(False)\n",
    "        ax.spines['right'].set_visible(False)\n",
    "        ax.spines['bottom'].set_visible(False)\n",
    "        ax.spines['left'].set_visible(False)\n",
    "        \n",
    "        plt.axvline(x=0.0, color='black', linestyle='dotted', linewidth=0.1)\n",
    "        plt.axvline(x=0.5, color='black', linestyle='dotted', linewidth=0.1)\n",
    "        plt.axvline(x=1.0, color='black', linestyle='dotted', linewidth=0.1)\n",
    "        \n",
    "        pos = np.arange(len(labels_h[5:8]))\n",
    "        ax = fig.add_subplot(132)\n",
    "        plt.barh(pos-0.125+2, scores_h[5:8], align='center', height=0.25, color='blue')\n",
    "        plt.barh(pos+0.125+2, scores_d[5:8], align='center', height=0.25, color='red')\n",
    "        plt.yticks([i+2 for i in range(len(labels_h[5:8]))], labels_h[5:8], size='small')\n",
    "        plt.xticks([0.0, 0.5, 1.0])\n",
    "        ax.set_xlim([0,1.5])\n",
    "        ax.set_title('      Language Style', loc='left')\n",
    "        plt.ylim((-0.25,4.25))\n",
    "        \n",
    "        ax.spines['top'].set_visible(False)\n",
    "        ax.spines['right'].set_visible(False)\n",
    "        ax.spines['bottom'].set_visible(False)\n",
    "        ax.spines['left'].set_visible(False)\n",
    "        \n",
    "        plt.axvline(x=0.0, color='black', linestyle='dotted', linewidth=0.1)\n",
    "        plt.axvline(x=0.5, color='black', linestyle='dotted', linewidth=0.1)\n",
    "        plt.axvline(x=1.0, color='black', linestyle='dotted', linewidth=0.1)\n",
    "        \n",
    "        pos = np.arange(len(labels_h[8:13]))\n",
    "        ax = fig.add_subplot(133)\n",
    "        plt.barh(pos-0.125, scores_h[8:13], align='center', height=0.25, color='blue')\n",
    "        plt.barh(pos+0.125, scores_d[8:13], align='center', height=0.25, color='red')\n",
    "        plt.yticks(range(len(labels_h[8:13])), labels_h[8:13], size='small')\n",
    "        plt.xticks([0.0, 0.5, 1.0])\n",
    "        ax.set_xlim([0,1.5])\n",
    "        ax.set_title('   Social Tendencies', loc='left')\n",
    "        plt.ylim((-0.25,4.25))\n",
    "        \n",
    "        ax.spines['top'].set_visible(False)\n",
    "        ax.spines['right'].set_visible(False)\n",
    "        ax.spines['bottom'].set_visible(False)\n",
    "        ax.spines['left'].set_visible(False)\n",
    "        \n",
    "        plt.axvline(x=0.0, color='black', linestyle='dotted', linewidth=0.1)\n",
    "        plt.axvline(x=0.5, color='black', linestyle='dotted', linewidth=0.1)\n",
    "        plt.axvline(x=1.0, color='black', linestyle='dotted', linewidth=0.1)\n",
    "        \n",
    "        plt.show()\n",
    "        \n",
    "        if h == uniq_dates[0]:\n",
    "            totscore_HRC = scores_h\n",
    "            totscore_DJT = scores_d\n",
    "        else:\n",
    "            totscore_HRC += scores_h\n",
    "            totscore_DJT += scores_d\n"
   ]
  },
  {
   "cell_type": "markdown",
   "metadata": {},
   "source": [
    "# References\n",
    "[IBM Watson: Understanding your Tone Score](https://www.ibm.com/watson/developercloud/doc/tone-analyzer/understand-tone.html)"
   ]
  },
  {
   "cell_type": "code",
   "execution_count": null,
   "metadata": {
    "collapsed": true
   },
   "outputs": [],
   "source": []
  }
 ],
 "metadata": {
  "kernelspec": {
   "display_name": "Python [conda root]",
   "language": "python",
   "name": "conda-root-py"
  },
  "language_info": {
   "codemirror_mode": {
    "name": "ipython",
    "version": 2
   },
   "file_extension": ".py",
   "mimetype": "text/x-python",
   "name": "python",
   "nbconvert_exporter": "python",
   "pygments_lexer": "ipython2",
   "version": "2.7.13"
  }
 },
 "nbformat": 4,
 "nbformat_minor": 2
}
